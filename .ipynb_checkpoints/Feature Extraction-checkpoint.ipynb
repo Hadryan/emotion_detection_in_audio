{
 "cells": [
  {
   "cell_type": "code",
   "execution_count": 4,
   "metadata": {},
   "outputs": [],
   "source": [
    "# feature extraction \n",
    "def extract_feature(path):\n",
    "    \n",
    "    X,_ = librosa.load(path)\n",
    "    stft = librosa.amplitude_to_db(abs(librosa.stft(X)))\n",
    "    mfcc = librosa.feature.mfcc(y=X, sr=rate, n_mfcc=13)\n",
    "    chroma = librosa.feature.chroma_stft(y=X, sr=13)\n",
    "    \n",
    "    return stft,mfcc,chroma"
   ]
  },
  {
   "cell_type": "code",
   "execution_count": null,
   "metadata": {},
   "outputs": [],
   "source": [
    "RAV = r\"C:\\Users\\ratnd\\Desktop\\finalyr project\\ravdess\"\n",
    "\n",
    "path = RAV+\"\\\\Actor_08\\\\03-01-05-02-01-01-08.wav\"\n",
    "stft,mfcc,chroma = extract_feature(path)"
   ]
  },
  {
   "cell_type": "code",
   "execution_count": null,
   "metadata": {},
   "outputs": [],
   "source": []
  }
 ],
 "metadata": {
  "kernelspec": {
   "display_name": "Python 3",
   "language": "python",
   "name": "python3"
  },
  "language_info": {
   "codemirror_mode": {
    "name": "ipython",
    "version": 3
   },
   "file_extension": ".py",
   "mimetype": "text/x-python",
   "name": "python",
   "nbconvert_exporter": "python",
   "pygments_lexer": "ipython3",
   "version": "3.8.5"
  }
 },
 "nbformat": 4,
 "nbformat_minor": 4
}
